{
 "cells": [
  {
   "cell_type": "code",
   "execution_count": 1,
   "metadata": {
    "collapsed": true
   },
   "outputs": [],
   "source": [
    "# Importing dependencies\n",
    "import warnings\n",
    "warnings.filterwarnings('ignore')\n",
    "\n",
    "import numpy as np\n",
    "import pandas as pd\n",
    "from pathlib import Path\n",
    "from collections import Counter"
   ]
  },
  {
   "cell_type": "markdown",
   "source": [
    "# Read CSV in and Perform Basic Data Cleaning"
   ],
   "metadata": {
    "collapsed": false,
    "pycharm": {
     "name": "#%% md\n"
    }
   }
  },
  {
   "cell_type": "code",
   "execution_count": 2,
   "outputs": [],
   "source": [
    "# Setting the Output column and variable columns\n",
    "columns = [\n",
    "    \"loan_amnt\", \"int_rate\", \"installment\", \"home_ownership\",\n",
    "    \"annual_inc\", \"verification_status\", \"issue_d\", \"loan_status\",\n",
    "    \"pymnt_plan\", \"dti\", \"delinq_2yrs\", \"inq_last_6mths\",\n",
    "    \"open_acc\", \"pub_rec\", \"revol_bal\", \"total_acc\",\n",
    "    \"initial_list_status\", \"out_prncp\", \"out_prncp_inv\", \"total_pymnt\",\n",
    "    \"total_pymnt_inv\", \"total_rec_prncp\", \"total_rec_int\", \"total_rec_late_fee\",\n",
    "    \"recoveries\", \"collection_recovery_fee\", \"last_pymnt_amnt\", \"next_pymnt_d\",\n",
    "    \"collections_12_mths_ex_med\", \"policy_code\", \"application_type\", \"acc_now_delinq\",\n",
    "    \"tot_coll_amt\", \"tot_cur_bal\", \"open_acc_6m\", \"open_act_il\",\n",
    "    \"open_il_12m\", \"open_il_24m\", \"mths_since_rcnt_il\", \"total_bal_il\",\n",
    "    \"il_util\", \"open_rv_12m\", \"open_rv_24m\", \"max_bal_bc\",\n",
    "    \"all_util\", \"total_rev_hi_lim\", \"inq_fi\", \"total_cu_tl\",\n",
    "    \"inq_last_12m\", \"acc_open_past_24mths\", \"avg_cur_bal\", \"bc_open_to_buy\",\n",
    "    \"bc_util\", \"chargeoff_within_12_mths\", \"delinq_amnt\", \"mo_sin_old_il_acct\",\n",
    "    \"mo_sin_old_rev_tl_op\", \"mo_sin_rcnt_rev_tl_op\", \"mo_sin_rcnt_tl\", \"mort_acc\",\n",
    "    \"mths_since_recent_bc\", \"mths_since_recent_inq\", \"num_accts_ever_120_pd\", \"num_actv_bc_tl\",\n",
    "    \"num_actv_rev_tl\", \"num_bc_sats\", \"num_bc_tl\", \"num_il_tl\",\n",
    "    \"num_op_rev_tl\", \"num_rev_accts\", \"num_rev_tl_bal_gt_0\",\n",
    "    \"num_sats\", \"num_tl_120dpd_2m\", \"num_tl_30dpd\", \"num_tl_90g_dpd_24m\",\n",
    "    \"num_tl_op_past_12m\", \"pct_tl_nvr_dlq\", \"percent_bc_gt_75\", \"pub_rec_bankruptcies\",\n",
    "    \"tax_liens\", \"tot_hi_cred_lim\", \"total_bal_ex_mort\", \"total_bc_limit\",\n",
    "    \"total_il_high_credit_limit\", \"hardship_flag\", \"debt_settlement_flag\"\n",
    "]\n",
    "\n",
    "target = [\"loan_status\"]"
   ],
   "metadata": {
    "collapsed": false,
    "pycharm": {
     "name": "#%%\n"
    }
   }
  },
  {
   "cell_type": "code",
   "execution_count": 3,
   "outputs": [
    {
     "data": {
      "text/plain": "   loan_amnt int_rate  installment home_ownership  annual_inc  \\\n0    20000.0   17.19%       499.10           RENT     47000.0   \n1    21225.0   14.74%       502.05       MORTGAGE    225000.0   \n2     5000.0   17.97%       180.69       MORTGAGE     62000.0   \n3    20000.0    8.19%       628.49       MORTGAGE    200000.0   \n4    12000.0   15.57%       289.09       MORTGAGE     49000.0   \n\n  verification_status   issue_d loan_status pymnt_plan    dti  ...  \\\n0     Source Verified  Mar-2019      Issued          n  14.02  ...   \n1        Not Verified  Mar-2019      Issued          n  16.80  ...   \n2        Not Verified  Mar-2019      Issued          n  19.82  ...   \n3        Not Verified  Mar-2019      Issued          n  22.66  ...   \n4     Source Verified  Mar-2019      Issued          n  13.47  ...   \n\n   pct_tl_nvr_dlq  percent_bc_gt_75  pub_rec_bankruptcies  tax_liens  \\\n0            98.0              12.5                   0.0        0.0   \n1           100.0              50.0                   1.0        0.0   \n2            66.7              50.0                   0.0        0.0   \n3            95.7              22.2                   0.0        0.0   \n4            86.1              14.3                   0.0        0.0   \n\n   tot_hi_cred_lim  total_bal_ex_mort total_bc_limit  \\\n0          75824.0            31546.0        33800.0   \n1         747075.0           209426.0        53500.0   \n2         255738.0            31615.0         9400.0   \n3         448069.0            84744.0        49400.0   \n4         189260.0           106025.0        24400.0   \n\n   total_il_high_credit_limit  hardship_flag  debt_settlement_flag  \n0                     21524.0              N                     N  \n1                    128175.0              N                     N  \n2                     39938.0              N                     N  \n3                    105180.0              N                     N  \n4                     68860.0              N                     N  \n\n[5 rows x 86 columns]",
      "text/html": "<div>\n<style scoped>\n    .dataframe tbody tr th:only-of-type {\n        vertical-align: middle;\n    }\n\n    .dataframe tbody tr th {\n        vertical-align: top;\n    }\n\n    .dataframe thead th {\n        text-align: right;\n    }\n</style>\n<table border=\"1\" class=\"dataframe\">\n  <thead>\n    <tr style=\"text-align: right;\">\n      <th></th>\n      <th>loan_amnt</th>\n      <th>int_rate</th>\n      <th>installment</th>\n      <th>home_ownership</th>\n      <th>annual_inc</th>\n      <th>verification_status</th>\n      <th>issue_d</th>\n      <th>loan_status</th>\n      <th>pymnt_plan</th>\n      <th>dti</th>\n      <th>...</th>\n      <th>pct_tl_nvr_dlq</th>\n      <th>percent_bc_gt_75</th>\n      <th>pub_rec_bankruptcies</th>\n      <th>tax_liens</th>\n      <th>tot_hi_cred_lim</th>\n      <th>total_bal_ex_mort</th>\n      <th>total_bc_limit</th>\n      <th>total_il_high_credit_limit</th>\n      <th>hardship_flag</th>\n      <th>debt_settlement_flag</th>\n    </tr>\n  </thead>\n  <tbody>\n    <tr>\n      <th>0</th>\n      <td>20000.0</td>\n      <td>17.19%</td>\n      <td>499.10</td>\n      <td>RENT</td>\n      <td>47000.0</td>\n      <td>Source Verified</td>\n      <td>Mar-2019</td>\n      <td>Issued</td>\n      <td>n</td>\n      <td>14.02</td>\n      <td>...</td>\n      <td>98.0</td>\n      <td>12.5</td>\n      <td>0.0</td>\n      <td>0.0</td>\n      <td>75824.0</td>\n      <td>31546.0</td>\n      <td>33800.0</td>\n      <td>21524.0</td>\n      <td>N</td>\n      <td>N</td>\n    </tr>\n    <tr>\n      <th>1</th>\n      <td>21225.0</td>\n      <td>14.74%</td>\n      <td>502.05</td>\n      <td>MORTGAGE</td>\n      <td>225000.0</td>\n      <td>Not Verified</td>\n      <td>Mar-2019</td>\n      <td>Issued</td>\n      <td>n</td>\n      <td>16.80</td>\n      <td>...</td>\n      <td>100.0</td>\n      <td>50.0</td>\n      <td>1.0</td>\n      <td>0.0</td>\n      <td>747075.0</td>\n      <td>209426.0</td>\n      <td>53500.0</td>\n      <td>128175.0</td>\n      <td>N</td>\n      <td>N</td>\n    </tr>\n    <tr>\n      <th>2</th>\n      <td>5000.0</td>\n      <td>17.97%</td>\n      <td>180.69</td>\n      <td>MORTGAGE</td>\n      <td>62000.0</td>\n      <td>Not Verified</td>\n      <td>Mar-2019</td>\n      <td>Issued</td>\n      <td>n</td>\n      <td>19.82</td>\n      <td>...</td>\n      <td>66.7</td>\n      <td>50.0</td>\n      <td>0.0</td>\n      <td>0.0</td>\n      <td>255738.0</td>\n      <td>31615.0</td>\n      <td>9400.0</td>\n      <td>39938.0</td>\n      <td>N</td>\n      <td>N</td>\n    </tr>\n    <tr>\n      <th>3</th>\n      <td>20000.0</td>\n      <td>8.19%</td>\n      <td>628.49</td>\n      <td>MORTGAGE</td>\n      <td>200000.0</td>\n      <td>Not Verified</td>\n      <td>Mar-2019</td>\n      <td>Issued</td>\n      <td>n</td>\n      <td>22.66</td>\n      <td>...</td>\n      <td>95.7</td>\n      <td>22.2</td>\n      <td>0.0</td>\n      <td>0.0</td>\n      <td>448069.0</td>\n      <td>84744.0</td>\n      <td>49400.0</td>\n      <td>105180.0</td>\n      <td>N</td>\n      <td>N</td>\n    </tr>\n    <tr>\n      <th>4</th>\n      <td>12000.0</td>\n      <td>15.57%</td>\n      <td>289.09</td>\n      <td>MORTGAGE</td>\n      <td>49000.0</td>\n      <td>Source Verified</td>\n      <td>Mar-2019</td>\n      <td>Issued</td>\n      <td>n</td>\n      <td>13.47</td>\n      <td>...</td>\n      <td>86.1</td>\n      <td>14.3</td>\n      <td>0.0</td>\n      <td>0.0</td>\n      <td>189260.0</td>\n      <td>106025.0</td>\n      <td>24400.0</td>\n      <td>68860.0</td>\n      <td>N</td>\n      <td>N</td>\n    </tr>\n  </tbody>\n</table>\n<p>5 rows × 86 columns</p>\n</div>"
     },
     "execution_count": 3,
     "metadata": {},
     "output_type": "execute_result"
    }
   ],
   "source": [
    "# Loading in the LoanStats Data\n",
    "filePath = Path('LoanStats_2019Q1.csv')\n",
    "# Creating dataframe from CSV contents\n",
    "df = pd.read_csv(filePath, skiprows=1)[:-2]\n",
    "df = df.loc[:, columns].copy()\n",
    "df.head()"
   ],
   "metadata": {
    "collapsed": false,
    "pycharm": {
     "name": "#%%\n"
    }
   }
  },
  {
   "cell_type": "code",
   "execution_count": 4,
   "outputs": [
    {
     "data": {
      "text/plain": "loan_amnt                     115675\nint_rate                      115675\ninstallment                   115675\nhome_ownership                115675\nannual_inc                    115675\n                               ...  \ntotal_bal_ex_mort             115675\ntotal_bc_limit                115675\ntotal_il_high_credit_limit    115675\nhardship_flag                 115675\ndebt_settlement_flag          115675\nLength: 86, dtype: int64"
     },
     "execution_count": 4,
     "metadata": {},
     "output_type": "execute_result"
    }
   ],
   "source": [
    "\n",
    "# Drop the null columns where all values are null\n",
    "df = df.dropna(axis='columns', how='all')\n",
    "df.count()"
   ],
   "metadata": {
    "collapsed": false,
    "pycharm": {
     "name": "#%%\n"
    }
   }
  },
  {
   "cell_type": "code",
   "execution_count": 5,
   "outputs": [
    {
     "data": {
      "text/plain": "   loan_amnt int_rate  installment home_ownership  annual_inc  \\\n0    20000.0   17.19%       499.10           RENT     47000.0   \n1    21225.0   14.74%       502.05       MORTGAGE    225000.0   \n3    20000.0    8.19%       628.49       MORTGAGE    200000.0   \n4    12000.0   15.57%       289.09       MORTGAGE     49000.0   \n6    25000.0    7.02%       772.16       MORTGAGE    305000.0   \n\n  verification_status   issue_d loan_status pymnt_plan    dti  ...  \\\n0     Source Verified  Mar-2019      Issued          n  14.02  ...   \n1        Not Verified  Mar-2019      Issued          n  16.80  ...   \n3        Not Verified  Mar-2019      Issued          n  22.66  ...   \n4     Source Verified  Mar-2019      Issued          n  13.47  ...   \n6        Not Verified  Mar-2019      Issued          n   8.16  ...   \n\n   pct_tl_nvr_dlq  percent_bc_gt_75  pub_rec_bankruptcies  tax_liens  \\\n0            98.0              12.5                   0.0        0.0   \n1           100.0              50.0                   1.0        0.0   \n3            95.7              22.2                   0.0        0.0   \n4            86.1              14.3                   0.0        0.0   \n6           100.0               0.0                   0.0        0.0   \n\n   tot_hi_cred_lim  total_bal_ex_mort total_bc_limit  \\\n0          75824.0            31546.0        33800.0   \n1         747075.0           209426.0        53500.0   \n3         448069.0            84744.0        49400.0   \n4         189260.0           106025.0        24400.0   \n6         840287.0            65339.0        81000.0   \n\n   total_il_high_credit_limit  hardship_flag  debt_settlement_flag  \n0                     21524.0              N                     N  \n1                    128175.0              N                     N  \n3                    105180.0              N                     N  \n4                     68860.0              N                     N  \n6                     38858.0              N                     N  \n\n[5 rows x 86 columns]",
      "text/html": "<div>\n<style scoped>\n    .dataframe tbody tr th:only-of-type {\n        vertical-align: middle;\n    }\n\n    .dataframe tbody tr th {\n        vertical-align: top;\n    }\n\n    .dataframe thead th {\n        text-align: right;\n    }\n</style>\n<table border=\"1\" class=\"dataframe\">\n  <thead>\n    <tr style=\"text-align: right;\">\n      <th></th>\n      <th>loan_amnt</th>\n      <th>int_rate</th>\n      <th>installment</th>\n      <th>home_ownership</th>\n      <th>annual_inc</th>\n      <th>verification_status</th>\n      <th>issue_d</th>\n      <th>loan_status</th>\n      <th>pymnt_plan</th>\n      <th>dti</th>\n      <th>...</th>\n      <th>pct_tl_nvr_dlq</th>\n      <th>percent_bc_gt_75</th>\n      <th>pub_rec_bankruptcies</th>\n      <th>tax_liens</th>\n      <th>tot_hi_cred_lim</th>\n      <th>total_bal_ex_mort</th>\n      <th>total_bc_limit</th>\n      <th>total_il_high_credit_limit</th>\n      <th>hardship_flag</th>\n      <th>debt_settlement_flag</th>\n    </tr>\n  </thead>\n  <tbody>\n    <tr>\n      <th>0</th>\n      <td>20000.0</td>\n      <td>17.19%</td>\n      <td>499.10</td>\n      <td>RENT</td>\n      <td>47000.0</td>\n      <td>Source Verified</td>\n      <td>Mar-2019</td>\n      <td>Issued</td>\n      <td>n</td>\n      <td>14.02</td>\n      <td>...</td>\n      <td>98.0</td>\n      <td>12.5</td>\n      <td>0.0</td>\n      <td>0.0</td>\n      <td>75824.0</td>\n      <td>31546.0</td>\n      <td>33800.0</td>\n      <td>21524.0</td>\n      <td>N</td>\n      <td>N</td>\n    </tr>\n    <tr>\n      <th>1</th>\n      <td>21225.0</td>\n      <td>14.74%</td>\n      <td>502.05</td>\n      <td>MORTGAGE</td>\n      <td>225000.0</td>\n      <td>Not Verified</td>\n      <td>Mar-2019</td>\n      <td>Issued</td>\n      <td>n</td>\n      <td>16.80</td>\n      <td>...</td>\n      <td>100.0</td>\n      <td>50.0</td>\n      <td>1.0</td>\n      <td>0.0</td>\n      <td>747075.0</td>\n      <td>209426.0</td>\n      <td>53500.0</td>\n      <td>128175.0</td>\n      <td>N</td>\n      <td>N</td>\n    </tr>\n    <tr>\n      <th>3</th>\n      <td>20000.0</td>\n      <td>8.19%</td>\n      <td>628.49</td>\n      <td>MORTGAGE</td>\n      <td>200000.0</td>\n      <td>Not Verified</td>\n      <td>Mar-2019</td>\n      <td>Issued</td>\n      <td>n</td>\n      <td>22.66</td>\n      <td>...</td>\n      <td>95.7</td>\n      <td>22.2</td>\n      <td>0.0</td>\n      <td>0.0</td>\n      <td>448069.0</td>\n      <td>84744.0</td>\n      <td>49400.0</td>\n      <td>105180.0</td>\n      <td>N</td>\n      <td>N</td>\n    </tr>\n    <tr>\n      <th>4</th>\n      <td>12000.0</td>\n      <td>15.57%</td>\n      <td>289.09</td>\n      <td>MORTGAGE</td>\n      <td>49000.0</td>\n      <td>Source Verified</td>\n      <td>Mar-2019</td>\n      <td>Issued</td>\n      <td>n</td>\n      <td>13.47</td>\n      <td>...</td>\n      <td>86.1</td>\n      <td>14.3</td>\n      <td>0.0</td>\n      <td>0.0</td>\n      <td>189260.0</td>\n      <td>106025.0</td>\n      <td>24400.0</td>\n      <td>68860.0</td>\n      <td>N</td>\n      <td>N</td>\n    </tr>\n    <tr>\n      <th>6</th>\n      <td>25000.0</td>\n      <td>7.02%</td>\n      <td>772.16</td>\n      <td>MORTGAGE</td>\n      <td>305000.0</td>\n      <td>Not Verified</td>\n      <td>Mar-2019</td>\n      <td>Issued</td>\n      <td>n</td>\n      <td>8.16</td>\n      <td>...</td>\n      <td>100.0</td>\n      <td>0.0</td>\n      <td>0.0</td>\n      <td>0.0</td>\n      <td>840287.0</td>\n      <td>65339.0</td>\n      <td>81000.0</td>\n      <td>38858.0</td>\n      <td>N</td>\n      <td>N</td>\n    </tr>\n  </tbody>\n</table>\n<p>5 rows × 86 columns</p>\n</div>"
     },
     "execution_count": 5,
     "metadata": {},
     "output_type": "execute_result"
    }
   ],
   "source": [
    "# Dropping the null rows\n",
    "df = df.dropna()\n",
    "df.head()"
   ],
   "metadata": {
    "collapsed": false,
    "pycharm": {
     "name": "#%%\n"
    }
   }
  },
  {
   "cell_type": "code",
   "execution_count": 6,
   "outputs": [
    {
     "data": {
      "text/plain": "     loan_amnt int_rate  installment home_ownership  annual_inc  \\\n93     10500.0   17.19%       375.35           RENT     66000.0   \n99     25000.0   20.00%       929.09       MORTGAGE    105000.0   \n132    20000.0   20.00%       529.88       MORTGAGE     56000.0   \n133    10000.0   16.40%       353.55           RENT     92000.0   \n140    22000.0   14.74%       520.39       MORTGAGE     52000.0   \n\n    verification_status   issue_d loan_status pymnt_plan    dti  ...  \\\n93      Source Verified  Mar-2019     Current          n  27.24  ...   \n99             Verified  Mar-2019     Current          n  20.23  ...   \n132            Verified  Mar-2019     Current          n  24.26  ...   \n133            Verified  Mar-2019     Current          n  31.44  ...   \n140        Not Verified  Mar-2019     Current          n  18.76  ...   \n\n     pct_tl_nvr_dlq  percent_bc_gt_75  pub_rec_bankruptcies  tax_liens  \\\n93             85.7             100.0                   0.0        0.0   \n99             91.2              50.0                   1.0        0.0   \n132            66.7              50.0                   0.0        0.0   \n133           100.0              50.0                   1.0        0.0   \n140           100.0               0.0                   0.0        0.0   \n\n     tot_hi_cred_lim  total_bal_ex_mort total_bc_limit  \\\n93           65687.0            38199.0         2000.0   \n99          271427.0            60641.0        41200.0   \n132          60644.0            45684.0         7500.0   \n133          99506.0            68784.0        19700.0   \n140         219750.0            25919.0        27600.0   \n\n     total_il_high_credit_limit  hardship_flag  debt_settlement_flag  \n93                      61987.0              N                     N  \n99                      49197.0              N                     N  \n132                     43144.0              N                     N  \n133                     76506.0              N                     N  \n140                     20000.0              N                     N  \n\n[5 rows x 86 columns]",
      "text/html": "<div>\n<style scoped>\n    .dataframe tbody tr th:only-of-type {\n        vertical-align: middle;\n    }\n\n    .dataframe tbody tr th {\n        vertical-align: top;\n    }\n\n    .dataframe thead th {\n        text-align: right;\n    }\n</style>\n<table border=\"1\" class=\"dataframe\">\n  <thead>\n    <tr style=\"text-align: right;\">\n      <th></th>\n      <th>loan_amnt</th>\n      <th>int_rate</th>\n      <th>installment</th>\n      <th>home_ownership</th>\n      <th>annual_inc</th>\n      <th>verification_status</th>\n      <th>issue_d</th>\n      <th>loan_status</th>\n      <th>pymnt_plan</th>\n      <th>dti</th>\n      <th>...</th>\n      <th>pct_tl_nvr_dlq</th>\n      <th>percent_bc_gt_75</th>\n      <th>pub_rec_bankruptcies</th>\n      <th>tax_liens</th>\n      <th>tot_hi_cred_lim</th>\n      <th>total_bal_ex_mort</th>\n      <th>total_bc_limit</th>\n      <th>total_il_high_credit_limit</th>\n      <th>hardship_flag</th>\n      <th>debt_settlement_flag</th>\n    </tr>\n  </thead>\n  <tbody>\n    <tr>\n      <th>93</th>\n      <td>10500.0</td>\n      <td>17.19%</td>\n      <td>375.35</td>\n      <td>RENT</td>\n      <td>66000.0</td>\n      <td>Source Verified</td>\n      <td>Mar-2019</td>\n      <td>Current</td>\n      <td>n</td>\n      <td>27.24</td>\n      <td>...</td>\n      <td>85.7</td>\n      <td>100.0</td>\n      <td>0.0</td>\n      <td>0.0</td>\n      <td>65687.0</td>\n      <td>38199.0</td>\n      <td>2000.0</td>\n      <td>61987.0</td>\n      <td>N</td>\n      <td>N</td>\n    </tr>\n    <tr>\n      <th>99</th>\n      <td>25000.0</td>\n      <td>20.00%</td>\n      <td>929.09</td>\n      <td>MORTGAGE</td>\n      <td>105000.0</td>\n      <td>Verified</td>\n      <td>Mar-2019</td>\n      <td>Current</td>\n      <td>n</td>\n      <td>20.23</td>\n      <td>...</td>\n      <td>91.2</td>\n      <td>50.0</td>\n      <td>1.0</td>\n      <td>0.0</td>\n      <td>271427.0</td>\n      <td>60641.0</td>\n      <td>41200.0</td>\n      <td>49197.0</td>\n      <td>N</td>\n      <td>N</td>\n    </tr>\n    <tr>\n      <th>132</th>\n      <td>20000.0</td>\n      <td>20.00%</td>\n      <td>529.88</td>\n      <td>MORTGAGE</td>\n      <td>56000.0</td>\n      <td>Verified</td>\n      <td>Mar-2019</td>\n      <td>Current</td>\n      <td>n</td>\n      <td>24.26</td>\n      <td>...</td>\n      <td>66.7</td>\n      <td>50.0</td>\n      <td>0.0</td>\n      <td>0.0</td>\n      <td>60644.0</td>\n      <td>45684.0</td>\n      <td>7500.0</td>\n      <td>43144.0</td>\n      <td>N</td>\n      <td>N</td>\n    </tr>\n    <tr>\n      <th>133</th>\n      <td>10000.0</td>\n      <td>16.40%</td>\n      <td>353.55</td>\n      <td>RENT</td>\n      <td>92000.0</td>\n      <td>Verified</td>\n      <td>Mar-2019</td>\n      <td>Current</td>\n      <td>n</td>\n      <td>31.44</td>\n      <td>...</td>\n      <td>100.0</td>\n      <td>50.0</td>\n      <td>1.0</td>\n      <td>0.0</td>\n      <td>99506.0</td>\n      <td>68784.0</td>\n      <td>19700.0</td>\n      <td>76506.0</td>\n      <td>N</td>\n      <td>N</td>\n    </tr>\n    <tr>\n      <th>140</th>\n      <td>22000.0</td>\n      <td>14.74%</td>\n      <td>520.39</td>\n      <td>MORTGAGE</td>\n      <td>52000.0</td>\n      <td>Not Verified</td>\n      <td>Mar-2019</td>\n      <td>Current</td>\n      <td>n</td>\n      <td>18.76</td>\n      <td>...</td>\n      <td>100.0</td>\n      <td>0.0</td>\n      <td>0.0</td>\n      <td>0.0</td>\n      <td>219750.0</td>\n      <td>25919.0</td>\n      <td>27600.0</td>\n      <td>20000.0</td>\n      <td>N</td>\n      <td>N</td>\n    </tr>\n  </tbody>\n</table>\n<p>5 rows × 86 columns</p>\n</div>"
     },
     "execution_count": 6,
     "metadata": {},
     "output_type": "execute_result"
    }
   ],
   "source": [
    "# Removing the \"Issued\" loan status\n",
    "issuedMask = df['loan_status'] != \"Issued\"\n",
    "df = df.loc[issuedMask]\n",
    "df.head()"
   ],
   "metadata": {
    "collapsed": false,
    "pycharm": {
     "name": "#%%\n"
    }
   }
  },
  {
   "cell_type": "code",
   "execution_count": 7,
   "outputs": [
    {
     "data": {
      "text/plain": "     loan_amnt  int_rate  installment home_ownership  annual_inc  \\\n93     10500.0    0.1719       375.35           RENT     66000.0   \n99     25000.0    0.2000       929.09       MORTGAGE    105000.0   \n132    20000.0    0.2000       529.88       MORTGAGE     56000.0   \n133    10000.0    0.1640       353.55           RENT     92000.0   \n140    22000.0    0.1474       520.39       MORTGAGE     52000.0   \n\n    verification_status   issue_d loan_status pymnt_plan    dti  ...  \\\n93      Source Verified  Mar-2019     Current          n  27.24  ...   \n99             Verified  Mar-2019     Current          n  20.23  ...   \n132            Verified  Mar-2019     Current          n  24.26  ...   \n133            Verified  Mar-2019     Current          n  31.44  ...   \n140        Not Verified  Mar-2019     Current          n  18.76  ...   \n\n     pct_tl_nvr_dlq  percent_bc_gt_75  pub_rec_bankruptcies  tax_liens  \\\n93             85.7             100.0                   0.0        0.0   \n99             91.2              50.0                   1.0        0.0   \n132            66.7              50.0                   0.0        0.0   \n133           100.0              50.0                   1.0        0.0   \n140           100.0               0.0                   0.0        0.0   \n\n     tot_hi_cred_lim  total_bal_ex_mort total_bc_limit  \\\n93           65687.0            38199.0         2000.0   \n99          271427.0            60641.0        41200.0   \n132          60644.0            45684.0         7500.0   \n133          99506.0            68784.0        19700.0   \n140         219750.0            25919.0        27600.0   \n\n     total_il_high_credit_limit  hardship_flag  debt_settlement_flag  \n93                      61987.0              N                     N  \n99                      49197.0              N                     N  \n132                     43144.0              N                     N  \n133                     76506.0              N                     N  \n140                     20000.0              N                     N  \n\n[5 rows x 86 columns]",
      "text/html": "<div>\n<style scoped>\n    .dataframe tbody tr th:only-of-type {\n        vertical-align: middle;\n    }\n\n    .dataframe tbody tr th {\n        vertical-align: top;\n    }\n\n    .dataframe thead th {\n        text-align: right;\n    }\n</style>\n<table border=\"1\" class=\"dataframe\">\n  <thead>\n    <tr style=\"text-align: right;\">\n      <th></th>\n      <th>loan_amnt</th>\n      <th>int_rate</th>\n      <th>installment</th>\n      <th>home_ownership</th>\n      <th>annual_inc</th>\n      <th>verification_status</th>\n      <th>issue_d</th>\n      <th>loan_status</th>\n      <th>pymnt_plan</th>\n      <th>dti</th>\n      <th>...</th>\n      <th>pct_tl_nvr_dlq</th>\n      <th>percent_bc_gt_75</th>\n      <th>pub_rec_bankruptcies</th>\n      <th>tax_liens</th>\n      <th>tot_hi_cred_lim</th>\n      <th>total_bal_ex_mort</th>\n      <th>total_bc_limit</th>\n      <th>total_il_high_credit_limit</th>\n      <th>hardship_flag</th>\n      <th>debt_settlement_flag</th>\n    </tr>\n  </thead>\n  <tbody>\n    <tr>\n      <th>93</th>\n      <td>10500.0</td>\n      <td>0.1719</td>\n      <td>375.35</td>\n      <td>RENT</td>\n      <td>66000.0</td>\n      <td>Source Verified</td>\n      <td>Mar-2019</td>\n      <td>Current</td>\n      <td>n</td>\n      <td>27.24</td>\n      <td>...</td>\n      <td>85.7</td>\n      <td>100.0</td>\n      <td>0.0</td>\n      <td>0.0</td>\n      <td>65687.0</td>\n      <td>38199.0</td>\n      <td>2000.0</td>\n      <td>61987.0</td>\n      <td>N</td>\n      <td>N</td>\n    </tr>\n    <tr>\n      <th>99</th>\n      <td>25000.0</td>\n      <td>0.2000</td>\n      <td>929.09</td>\n      <td>MORTGAGE</td>\n      <td>105000.0</td>\n      <td>Verified</td>\n      <td>Mar-2019</td>\n      <td>Current</td>\n      <td>n</td>\n      <td>20.23</td>\n      <td>...</td>\n      <td>91.2</td>\n      <td>50.0</td>\n      <td>1.0</td>\n      <td>0.0</td>\n      <td>271427.0</td>\n      <td>60641.0</td>\n      <td>41200.0</td>\n      <td>49197.0</td>\n      <td>N</td>\n      <td>N</td>\n    </tr>\n    <tr>\n      <th>132</th>\n      <td>20000.0</td>\n      <td>0.2000</td>\n      <td>529.88</td>\n      <td>MORTGAGE</td>\n      <td>56000.0</td>\n      <td>Verified</td>\n      <td>Mar-2019</td>\n      <td>Current</td>\n      <td>n</td>\n      <td>24.26</td>\n      <td>...</td>\n      <td>66.7</td>\n      <td>50.0</td>\n      <td>0.0</td>\n      <td>0.0</td>\n      <td>60644.0</td>\n      <td>45684.0</td>\n      <td>7500.0</td>\n      <td>43144.0</td>\n      <td>N</td>\n      <td>N</td>\n    </tr>\n    <tr>\n      <th>133</th>\n      <td>10000.0</td>\n      <td>0.1640</td>\n      <td>353.55</td>\n      <td>RENT</td>\n      <td>92000.0</td>\n      <td>Verified</td>\n      <td>Mar-2019</td>\n      <td>Current</td>\n      <td>n</td>\n      <td>31.44</td>\n      <td>...</td>\n      <td>100.0</td>\n      <td>50.0</td>\n      <td>1.0</td>\n      <td>0.0</td>\n      <td>99506.0</td>\n      <td>68784.0</td>\n      <td>19700.0</td>\n      <td>76506.0</td>\n      <td>N</td>\n      <td>N</td>\n    </tr>\n    <tr>\n      <th>140</th>\n      <td>22000.0</td>\n      <td>0.1474</td>\n      <td>520.39</td>\n      <td>MORTGAGE</td>\n      <td>52000.0</td>\n      <td>Not Verified</td>\n      <td>Mar-2019</td>\n      <td>Current</td>\n      <td>n</td>\n      <td>18.76</td>\n      <td>...</td>\n      <td>100.0</td>\n      <td>0.0</td>\n      <td>0.0</td>\n      <td>0.0</td>\n      <td>219750.0</td>\n      <td>25919.0</td>\n      <td>27600.0</td>\n      <td>20000.0</td>\n      <td>N</td>\n      <td>N</td>\n    </tr>\n  </tbody>\n</table>\n<p>5 rows × 86 columns</p>\n</div>"
     },
     "execution_count": 7,
     "metadata": {},
     "output_type": "execute_result"
    }
   ],
   "source": [
    "# Converting interest rate to numerical\n",
    "df['int_rate'] = df['int_rate'].str.replace('%','')\n",
    "df['int_rate'] = df['int_rate'].astype('float') / 100\n",
    "\n",
    "df.head()"
   ],
   "metadata": {
    "collapsed": false,
    "pycharm": {
     "name": "#%%\n"
    }
   }
  },
  {
   "cell_type": "code",
   "execution_count": 8,
   "outputs": [
    {
     "data": {
      "text/plain": "     loan_amnt  int_rate  installment home_ownership  annual_inc  \\\n93     10500.0    0.1719       375.35           RENT     66000.0   \n99     25000.0    0.2000       929.09       MORTGAGE    105000.0   \n132    20000.0    0.2000       529.88       MORTGAGE     56000.0   \n133    10000.0    0.1640       353.55           RENT     92000.0   \n140    22000.0    0.1474       520.39       MORTGAGE     52000.0   \n\n    verification_status   issue_d loan_status pymnt_plan    dti  ...  \\\n93      Source Verified  Mar-2019    low_risk          n  27.24  ...   \n99             Verified  Mar-2019    low_risk          n  20.23  ...   \n132            Verified  Mar-2019    low_risk          n  24.26  ...   \n133            Verified  Mar-2019    low_risk          n  31.44  ...   \n140        Not Verified  Mar-2019    low_risk          n  18.76  ...   \n\n     pct_tl_nvr_dlq  percent_bc_gt_75  pub_rec_bankruptcies  tax_liens  \\\n93             85.7             100.0                   0.0        0.0   \n99             91.2              50.0                   1.0        0.0   \n132            66.7              50.0                   0.0        0.0   \n133           100.0              50.0                   1.0        0.0   \n140           100.0               0.0                   0.0        0.0   \n\n     tot_hi_cred_lim  total_bal_ex_mort total_bc_limit  \\\n93           65687.0            38199.0         2000.0   \n99          271427.0            60641.0        41200.0   \n132          60644.0            45684.0         7500.0   \n133          99506.0            68784.0        19700.0   \n140         219750.0            25919.0        27600.0   \n\n     total_il_high_credit_limit  hardship_flag  debt_settlement_flag  \n93                      61987.0              N                     N  \n99                      49197.0              N                     N  \n132                     43144.0              N                     N  \n133                     76506.0              N                     N  \n140                     20000.0              N                     N  \n\n[5 rows x 86 columns]",
      "text/html": "<div>\n<style scoped>\n    .dataframe tbody tr th:only-of-type {\n        vertical-align: middle;\n    }\n\n    .dataframe tbody tr th {\n        vertical-align: top;\n    }\n\n    .dataframe thead th {\n        text-align: right;\n    }\n</style>\n<table border=\"1\" class=\"dataframe\">\n  <thead>\n    <tr style=\"text-align: right;\">\n      <th></th>\n      <th>loan_amnt</th>\n      <th>int_rate</th>\n      <th>installment</th>\n      <th>home_ownership</th>\n      <th>annual_inc</th>\n      <th>verification_status</th>\n      <th>issue_d</th>\n      <th>loan_status</th>\n      <th>pymnt_plan</th>\n      <th>dti</th>\n      <th>...</th>\n      <th>pct_tl_nvr_dlq</th>\n      <th>percent_bc_gt_75</th>\n      <th>pub_rec_bankruptcies</th>\n      <th>tax_liens</th>\n      <th>tot_hi_cred_lim</th>\n      <th>total_bal_ex_mort</th>\n      <th>total_bc_limit</th>\n      <th>total_il_high_credit_limit</th>\n      <th>hardship_flag</th>\n      <th>debt_settlement_flag</th>\n    </tr>\n  </thead>\n  <tbody>\n    <tr>\n      <th>93</th>\n      <td>10500.0</td>\n      <td>0.1719</td>\n      <td>375.35</td>\n      <td>RENT</td>\n      <td>66000.0</td>\n      <td>Source Verified</td>\n      <td>Mar-2019</td>\n      <td>low_risk</td>\n      <td>n</td>\n      <td>27.24</td>\n      <td>...</td>\n      <td>85.7</td>\n      <td>100.0</td>\n      <td>0.0</td>\n      <td>0.0</td>\n      <td>65687.0</td>\n      <td>38199.0</td>\n      <td>2000.0</td>\n      <td>61987.0</td>\n      <td>N</td>\n      <td>N</td>\n    </tr>\n    <tr>\n      <th>99</th>\n      <td>25000.0</td>\n      <td>0.2000</td>\n      <td>929.09</td>\n      <td>MORTGAGE</td>\n      <td>105000.0</td>\n      <td>Verified</td>\n      <td>Mar-2019</td>\n      <td>low_risk</td>\n      <td>n</td>\n      <td>20.23</td>\n      <td>...</td>\n      <td>91.2</td>\n      <td>50.0</td>\n      <td>1.0</td>\n      <td>0.0</td>\n      <td>271427.0</td>\n      <td>60641.0</td>\n      <td>41200.0</td>\n      <td>49197.0</td>\n      <td>N</td>\n      <td>N</td>\n    </tr>\n    <tr>\n      <th>132</th>\n      <td>20000.0</td>\n      <td>0.2000</td>\n      <td>529.88</td>\n      <td>MORTGAGE</td>\n      <td>56000.0</td>\n      <td>Verified</td>\n      <td>Mar-2019</td>\n      <td>low_risk</td>\n      <td>n</td>\n      <td>24.26</td>\n      <td>...</td>\n      <td>66.7</td>\n      <td>50.0</td>\n      <td>0.0</td>\n      <td>0.0</td>\n      <td>60644.0</td>\n      <td>45684.0</td>\n      <td>7500.0</td>\n      <td>43144.0</td>\n      <td>N</td>\n      <td>N</td>\n    </tr>\n    <tr>\n      <th>133</th>\n      <td>10000.0</td>\n      <td>0.1640</td>\n      <td>353.55</td>\n      <td>RENT</td>\n      <td>92000.0</td>\n      <td>Verified</td>\n      <td>Mar-2019</td>\n      <td>low_risk</td>\n      <td>n</td>\n      <td>31.44</td>\n      <td>...</td>\n      <td>100.0</td>\n      <td>50.0</td>\n      <td>1.0</td>\n      <td>0.0</td>\n      <td>99506.0</td>\n      <td>68784.0</td>\n      <td>19700.0</td>\n      <td>76506.0</td>\n      <td>N</td>\n      <td>N</td>\n    </tr>\n    <tr>\n      <th>140</th>\n      <td>22000.0</td>\n      <td>0.1474</td>\n      <td>520.39</td>\n      <td>MORTGAGE</td>\n      <td>52000.0</td>\n      <td>Not Verified</td>\n      <td>Mar-2019</td>\n      <td>low_risk</td>\n      <td>n</td>\n      <td>18.76</td>\n      <td>...</td>\n      <td>100.0</td>\n      <td>0.0</td>\n      <td>0.0</td>\n      <td>0.0</td>\n      <td>219750.0</td>\n      <td>25919.0</td>\n      <td>27600.0</td>\n      <td>20000.0</td>\n      <td>N</td>\n      <td>N</td>\n    </tr>\n  </tbody>\n</table>\n<p>5 rows × 86 columns</p>\n</div>"
     },
     "execution_count": 8,
     "metadata": {},
     "output_type": "execute_result"
    }
   ],
   "source": [
    "# Converting the target column values to low_risk\n",
    "x = {'Current': 'low_risk'}\n",
    "df = df.replace(x)\n",
    "df.head()"
   ],
   "metadata": {
    "collapsed": false,
    "pycharm": {
     "name": "#%%\n"
    }
   }
  },
  {
   "cell_type": "code",
   "execution_count": 9,
   "outputs": [
    {
     "data": {
      "text/plain": "low_risk     68470\nhigh_risk      347\nName: loan_status, dtype: int64"
     },
     "execution_count": 9,
     "metadata": {},
     "output_type": "execute_result"
    }
   ],
   "source": [
    "# Converting the target column values to high_risk based on their values\n",
    "x = dict.fromkeys(['Late (31-120 days)', 'Late (16-30 days)', 'Default', 'In Grace Period'], 'high_risk')\n",
    "df = df.replace(x)\n",
    "\n",
    "# Checking our target columns value distribution\n",
    "df.loan_status.value_counts()"
   ],
   "metadata": {
    "collapsed": false,
    "pycharm": {
     "name": "#%%\n"
    }
   }
  },
  {
   "cell_type": "code",
   "execution_count": 10,
   "outputs": [
    {
     "data": {
      "text/plain": "   loan_amnt  int_rate  installment home_ownership  annual_inc  \\\n0    10500.0    0.1719       375.35           RENT     66000.0   \n1    25000.0    0.2000       929.09       MORTGAGE    105000.0   \n2    20000.0    0.2000       529.88       MORTGAGE     56000.0   \n3    10000.0    0.1640       353.55           RENT     92000.0   \n4    22000.0    0.1474       520.39       MORTGAGE     52000.0   \n\n  verification_status   issue_d loan_status pymnt_plan    dti  ...  \\\n0     Source Verified  Mar-2019    low_risk          n  27.24  ...   \n1            Verified  Mar-2019    low_risk          n  20.23  ...   \n2            Verified  Mar-2019    low_risk          n  24.26  ...   \n3            Verified  Mar-2019    low_risk          n  31.44  ...   \n4        Not Verified  Mar-2019    low_risk          n  18.76  ...   \n\n   pct_tl_nvr_dlq  percent_bc_gt_75  pub_rec_bankruptcies  tax_liens  \\\n0            85.7             100.0                   0.0        0.0   \n1            91.2              50.0                   1.0        0.0   \n2            66.7              50.0                   0.0        0.0   \n3           100.0              50.0                   1.0        0.0   \n4           100.0               0.0                   0.0        0.0   \n\n   tot_hi_cred_lim  total_bal_ex_mort total_bc_limit  \\\n0          65687.0            38199.0         2000.0   \n1         271427.0            60641.0        41200.0   \n2          60644.0            45684.0         7500.0   \n3          99506.0            68784.0        19700.0   \n4         219750.0            25919.0        27600.0   \n\n   total_il_high_credit_limit  hardship_flag  debt_settlement_flag  \n0                     61987.0              N                     N  \n1                     49197.0              N                     N  \n2                     43144.0              N                     N  \n3                     76506.0              N                     N  \n4                     20000.0              N                     N  \n\n[5 rows x 86 columns]",
      "text/html": "<div>\n<style scoped>\n    .dataframe tbody tr th:only-of-type {\n        vertical-align: middle;\n    }\n\n    .dataframe tbody tr th {\n        vertical-align: top;\n    }\n\n    .dataframe thead th {\n        text-align: right;\n    }\n</style>\n<table border=\"1\" class=\"dataframe\">\n  <thead>\n    <tr style=\"text-align: right;\">\n      <th></th>\n      <th>loan_amnt</th>\n      <th>int_rate</th>\n      <th>installment</th>\n      <th>home_ownership</th>\n      <th>annual_inc</th>\n      <th>verification_status</th>\n      <th>issue_d</th>\n      <th>loan_status</th>\n      <th>pymnt_plan</th>\n      <th>dti</th>\n      <th>...</th>\n      <th>pct_tl_nvr_dlq</th>\n      <th>percent_bc_gt_75</th>\n      <th>pub_rec_bankruptcies</th>\n      <th>tax_liens</th>\n      <th>tot_hi_cred_lim</th>\n      <th>total_bal_ex_mort</th>\n      <th>total_bc_limit</th>\n      <th>total_il_high_credit_limit</th>\n      <th>hardship_flag</th>\n      <th>debt_settlement_flag</th>\n    </tr>\n  </thead>\n  <tbody>\n    <tr>\n      <th>0</th>\n      <td>10500.0</td>\n      <td>0.1719</td>\n      <td>375.35</td>\n      <td>RENT</td>\n      <td>66000.0</td>\n      <td>Source Verified</td>\n      <td>Mar-2019</td>\n      <td>low_risk</td>\n      <td>n</td>\n      <td>27.24</td>\n      <td>...</td>\n      <td>85.7</td>\n      <td>100.0</td>\n      <td>0.0</td>\n      <td>0.0</td>\n      <td>65687.0</td>\n      <td>38199.0</td>\n      <td>2000.0</td>\n      <td>61987.0</td>\n      <td>N</td>\n      <td>N</td>\n    </tr>\n    <tr>\n      <th>1</th>\n      <td>25000.0</td>\n      <td>0.2000</td>\n      <td>929.09</td>\n      <td>MORTGAGE</td>\n      <td>105000.0</td>\n      <td>Verified</td>\n      <td>Mar-2019</td>\n      <td>low_risk</td>\n      <td>n</td>\n      <td>20.23</td>\n      <td>...</td>\n      <td>91.2</td>\n      <td>50.0</td>\n      <td>1.0</td>\n      <td>0.0</td>\n      <td>271427.0</td>\n      <td>60641.0</td>\n      <td>41200.0</td>\n      <td>49197.0</td>\n      <td>N</td>\n      <td>N</td>\n    </tr>\n    <tr>\n      <th>2</th>\n      <td>20000.0</td>\n      <td>0.2000</td>\n      <td>529.88</td>\n      <td>MORTGAGE</td>\n      <td>56000.0</td>\n      <td>Verified</td>\n      <td>Mar-2019</td>\n      <td>low_risk</td>\n      <td>n</td>\n      <td>24.26</td>\n      <td>...</td>\n      <td>66.7</td>\n      <td>50.0</td>\n      <td>0.0</td>\n      <td>0.0</td>\n      <td>60644.0</td>\n      <td>45684.0</td>\n      <td>7500.0</td>\n      <td>43144.0</td>\n      <td>N</td>\n      <td>N</td>\n    </tr>\n    <tr>\n      <th>3</th>\n      <td>10000.0</td>\n      <td>0.1640</td>\n      <td>353.55</td>\n      <td>RENT</td>\n      <td>92000.0</td>\n      <td>Verified</td>\n      <td>Mar-2019</td>\n      <td>low_risk</td>\n      <td>n</td>\n      <td>31.44</td>\n      <td>...</td>\n      <td>100.0</td>\n      <td>50.0</td>\n      <td>1.0</td>\n      <td>0.0</td>\n      <td>99506.0</td>\n      <td>68784.0</td>\n      <td>19700.0</td>\n      <td>76506.0</td>\n      <td>N</td>\n      <td>N</td>\n    </tr>\n    <tr>\n      <th>4</th>\n      <td>22000.0</td>\n      <td>0.1474</td>\n      <td>520.39</td>\n      <td>MORTGAGE</td>\n      <td>52000.0</td>\n      <td>Not Verified</td>\n      <td>Mar-2019</td>\n      <td>low_risk</td>\n      <td>n</td>\n      <td>18.76</td>\n      <td>...</td>\n      <td>100.0</td>\n      <td>0.0</td>\n      <td>0.0</td>\n      <td>0.0</td>\n      <td>219750.0</td>\n      <td>25919.0</td>\n      <td>27600.0</td>\n      <td>20000.0</td>\n      <td>N</td>\n      <td>N</td>\n    </tr>\n  </tbody>\n</table>\n<p>5 rows × 86 columns</p>\n</div>"
     },
     "execution_count": 10,
     "metadata": {},
     "output_type": "execute_result"
    }
   ],
   "source": [
    "df.reset_index(inplace=True,drop=True)\n",
    "df.head()"
   ],
   "metadata": {
    "collapsed": false,
    "pycharm": {
     "name": "#%%\n"
    }
   }
  },
  {
   "cell_type": "code",
   "execution_count": 11,
   "outputs": [
    {
     "data": {
      "text/plain": "   loan_amnt  int_rate  installment  home_ownership  annual_inc  \\\n0    10500.0    0.1719       375.35               3     66000.0   \n1    25000.0    0.2000       929.09               1    105000.0   \n2    20000.0    0.2000       529.88               1     56000.0   \n3    10000.0    0.1640       353.55               3     92000.0   \n4    22000.0    0.1474       520.39               1     52000.0   \n\n   verification_status  issue_d loan_status  pymnt_plan    dti  ...  \\\n0                    1        2    low_risk           0  27.24  ...   \n1                    2        2    low_risk           0  20.23  ...   \n2                    2        2    low_risk           0  24.26  ...   \n3                    2        2    low_risk           0  31.44  ...   \n4                    0        2    low_risk           0  18.76  ...   \n\n   pct_tl_nvr_dlq  percent_bc_gt_75  pub_rec_bankruptcies  tax_liens  \\\n0            85.7             100.0                   0.0        0.0   \n1            91.2              50.0                   1.0        0.0   \n2            66.7              50.0                   0.0        0.0   \n3           100.0              50.0                   1.0        0.0   \n4           100.0               0.0                   0.0        0.0   \n\n   tot_hi_cred_lim  total_bal_ex_mort  total_bc_limit  \\\n0          65687.0            38199.0          2000.0   \n1         271427.0            60641.0         41200.0   \n2          60644.0            45684.0          7500.0   \n3          99506.0            68784.0         19700.0   \n4         219750.0            25919.0         27600.0   \n\n   total_il_high_credit_limit  hardship_flag  debt_settlement_flag  \n0                     61987.0              0                     0  \n1                     49197.0              0                     0  \n2                     43144.0              0                     0  \n3                     76506.0              0                     0  \n4                     20000.0              0                     0  \n\n[5 rows x 86 columns]",
      "text/html": "<div>\n<style scoped>\n    .dataframe tbody tr th:only-of-type {\n        vertical-align: middle;\n    }\n\n    .dataframe tbody tr th {\n        vertical-align: top;\n    }\n\n    .dataframe thead th {\n        text-align: right;\n    }\n</style>\n<table border=\"1\" class=\"dataframe\">\n  <thead>\n    <tr style=\"text-align: right;\">\n      <th></th>\n      <th>loan_amnt</th>\n      <th>int_rate</th>\n      <th>installment</th>\n      <th>home_ownership</th>\n      <th>annual_inc</th>\n      <th>verification_status</th>\n      <th>issue_d</th>\n      <th>loan_status</th>\n      <th>pymnt_plan</th>\n      <th>dti</th>\n      <th>...</th>\n      <th>pct_tl_nvr_dlq</th>\n      <th>percent_bc_gt_75</th>\n      <th>pub_rec_bankruptcies</th>\n      <th>tax_liens</th>\n      <th>tot_hi_cred_lim</th>\n      <th>total_bal_ex_mort</th>\n      <th>total_bc_limit</th>\n      <th>total_il_high_credit_limit</th>\n      <th>hardship_flag</th>\n      <th>debt_settlement_flag</th>\n    </tr>\n  </thead>\n  <tbody>\n    <tr>\n      <th>0</th>\n      <td>10500.0</td>\n      <td>0.1719</td>\n      <td>375.35</td>\n      <td>3</td>\n      <td>66000.0</td>\n      <td>1</td>\n      <td>2</td>\n      <td>low_risk</td>\n      <td>0</td>\n      <td>27.24</td>\n      <td>...</td>\n      <td>85.7</td>\n      <td>100.0</td>\n      <td>0.0</td>\n      <td>0.0</td>\n      <td>65687.0</td>\n      <td>38199.0</td>\n      <td>2000.0</td>\n      <td>61987.0</td>\n      <td>0</td>\n      <td>0</td>\n    </tr>\n    <tr>\n      <th>1</th>\n      <td>25000.0</td>\n      <td>0.2000</td>\n      <td>929.09</td>\n      <td>1</td>\n      <td>105000.0</td>\n      <td>2</td>\n      <td>2</td>\n      <td>low_risk</td>\n      <td>0</td>\n      <td>20.23</td>\n      <td>...</td>\n      <td>91.2</td>\n      <td>50.0</td>\n      <td>1.0</td>\n      <td>0.0</td>\n      <td>271427.0</td>\n      <td>60641.0</td>\n      <td>41200.0</td>\n      <td>49197.0</td>\n      <td>0</td>\n      <td>0</td>\n    </tr>\n    <tr>\n      <th>2</th>\n      <td>20000.0</td>\n      <td>0.2000</td>\n      <td>529.88</td>\n      <td>1</td>\n      <td>56000.0</td>\n      <td>2</td>\n      <td>2</td>\n      <td>low_risk</td>\n      <td>0</td>\n      <td>24.26</td>\n      <td>...</td>\n      <td>66.7</td>\n      <td>50.0</td>\n      <td>0.0</td>\n      <td>0.0</td>\n      <td>60644.0</td>\n      <td>45684.0</td>\n      <td>7500.0</td>\n      <td>43144.0</td>\n      <td>0</td>\n      <td>0</td>\n    </tr>\n    <tr>\n      <th>3</th>\n      <td>10000.0</td>\n      <td>0.1640</td>\n      <td>353.55</td>\n      <td>3</td>\n      <td>92000.0</td>\n      <td>2</td>\n      <td>2</td>\n      <td>low_risk</td>\n      <td>0</td>\n      <td>31.44</td>\n      <td>...</td>\n      <td>100.0</td>\n      <td>50.0</td>\n      <td>1.0</td>\n      <td>0.0</td>\n      <td>99506.0</td>\n      <td>68784.0</td>\n      <td>19700.0</td>\n      <td>76506.0</td>\n      <td>0</td>\n      <td>0</td>\n    </tr>\n    <tr>\n      <th>4</th>\n      <td>22000.0</td>\n      <td>0.1474</td>\n      <td>520.39</td>\n      <td>1</td>\n      <td>52000.0</td>\n      <td>0</td>\n      <td>2</td>\n      <td>low_risk</td>\n      <td>0</td>\n      <td>18.76</td>\n      <td>...</td>\n      <td>100.0</td>\n      <td>0.0</td>\n      <td>0.0</td>\n      <td>0.0</td>\n      <td>219750.0</td>\n      <td>25919.0</td>\n      <td>27600.0</td>\n      <td>20000.0</td>\n      <td>0</td>\n      <td>0</td>\n    </tr>\n  </tbody>\n</table>\n<p>5 rows × 86 columns</p>\n</div>"
     },
     "execution_count": 11,
     "metadata": {},
     "output_type": "execute_result"
    }
   ],
   "source": [
    "# Converting string columns to binary\n",
    "from sklearn.preprocessing import LabelEncoder\n",
    "le = LabelEncoder()\n",
    "df2 = df.copy()\n",
    "df2['home_ownership'] = le.fit_transform(df2['home_ownership'])\n",
    "\n",
    "df2['verification_status'] = le.fit_transform(df2['verification_status'])\n",
    "\n",
    "df2['issue_d_Mar2019'] = le.fit_transform(df2['issue_d'])\n",
    "\n",
    "df2['pymnt_plan'] = le.fit_transform(df2['pymnt_plan'])\n",
    "\n",
    "df2['initial_list_status'] = le.fit_transform(df2['initial_list_status'])\n",
    "\n",
    "df2['next_pymnt_d'] = le.fit_transform(df2['next_pymnt_d'])\n",
    "\n",
    "df2['application_type'] = le.fit_transform(df2['application_type'])\n",
    "\n",
    "df2['hardship_flag'] = le.fit_transform(df2['hardship_flag'])\n",
    "\n",
    "df2['debt_settlement_flag'] = le.fit_transform(df2['debt_settlement_flag'])\n",
    "df2.head()"
   ],
   "metadata": {
    "collapsed": false,
    "pycharm": {
     "name": "#%%\n"
    }
   }
  },
  {
   "cell_type": "markdown",
   "source": [
    "# Splitting Data into Training and Testing Sets"
   ],
   "metadata": {
    "collapsed": false,
    "pycharm": {
     "name": "#%% md\n"
    }
   }
  },
  {
   "cell_type": "code",
   "execution_count": 12,
   "outputs": [
    {
     "data": {
      "text/plain": "          loan_amnt      int_rate   installment  home_ownership    annual_inc  \\\ncount  68817.000000  68817.000000  68817.000000    68817.000000  6.881700e+04   \nmean   16677.594562      0.127718    480.652863        1.812779  8.821371e+04   \nstd    10277.348590      0.048130    288.062432        0.941313  1.155800e+05   \nmin     1000.000000      0.060000     30.890000        0.000000  4.000000e+01   \n25%     9000.000000      0.088100    265.730000        1.000000  5.000000e+04   \n50%    15000.000000      0.118000    404.560000        1.000000  7.300000e+04   \n75%    24000.000000      0.155700    648.100000        3.000000  1.040000e+05   \nmax    40000.000000      0.308400   1676.230000        3.000000  8.797500e+06   \n\n       verification_status       issue_d  pymnt_plan           dti  \\\ncount         68817.000000  68817.000000     68817.0  68817.000000   \nmean              0.669994      0.805542         0.0     21.778153   \nstd               0.719105      0.714932         0.0     20.199244   \nmin               0.000000      0.000000         0.0      0.000000   \n25%               0.000000      0.000000         0.0     13.890000   \n50%               1.000000      1.000000         0.0     19.760000   \n75%               1.000000      1.000000         0.0     26.660000   \nmax               2.000000      2.000000         0.0    999.000000   \n\n        delinq_2yrs  ...  pct_tl_nvr_dlq  percent_bc_gt_75  \\\ncount  68817.000000  ...    68817.000000      68817.000000   \nmean       0.217766  ...       95.057627         30.626217   \nstd        0.718367  ...        8.326426         33.631463   \nmin        0.000000  ...       20.000000          0.000000   \n25%        0.000000  ...       93.000000          0.000000   \n50%        0.000000  ...      100.000000         20.000000   \n75%        0.000000  ...      100.000000         50.000000   \nmax       18.000000  ...      100.000000        100.000000   \n\n       pub_rec_bankruptcies  tax_liens  tot_hi_cred_lim  total_bal_ex_mort  \\\ncount          68817.000000    68817.0     6.881700e+04       6.881700e+04   \nmean               0.125972        0.0     2.100332e+05       6.133843e+04   \nstd                0.336732        0.0     1.928088e+05       5.738798e+04   \nmin                0.000000        0.0     3.600000e+03       2.350000e+02   \n25%                0.000000        0.0     6.697700e+04       2.650300e+04   \n50%                0.000000        0.0     1.467100e+05       4.535700e+04   \n75%                0.000000        0.0     3.036400e+05       7.657000e+04   \nmax                4.000000        0.0     3.292782e+06       1.295455e+06   \n\n       total_bc_limit  total_il_high_credit_limit  hardship_flag  \\\ncount    68817.000000                6.881700e+04        68817.0   \nmean     29734.128558                5.572240e+04            0.0   \nstd      26795.394232                5.095845e+04            0.0   \nmin        100.000000                1.270000e+02            0.0   \n25%      11600.000000                2.288000e+04            0.0   \n50%      22100.000000                4.200000e+04            0.0   \n75%      39300.000000                7.249900e+04            0.0   \nmax     509400.000000                1.426964e+06            0.0   \n\n       debt_settlement_flag  \ncount               68817.0  \nmean                    0.0  \nstd                     0.0  \nmin                     0.0  \n25%                     0.0  \n50%                     0.0  \n75%                     0.0  \nmax                     0.0  \n\n[8 rows x 85 columns]",
      "text/html": "<div>\n<style scoped>\n    .dataframe tbody tr th:only-of-type {\n        vertical-align: middle;\n    }\n\n    .dataframe tbody tr th {\n        vertical-align: top;\n    }\n\n    .dataframe thead th {\n        text-align: right;\n    }\n</style>\n<table border=\"1\" class=\"dataframe\">\n  <thead>\n    <tr style=\"text-align: right;\">\n      <th></th>\n      <th>loan_amnt</th>\n      <th>int_rate</th>\n      <th>installment</th>\n      <th>home_ownership</th>\n      <th>annual_inc</th>\n      <th>verification_status</th>\n      <th>issue_d</th>\n      <th>pymnt_plan</th>\n      <th>dti</th>\n      <th>delinq_2yrs</th>\n      <th>...</th>\n      <th>pct_tl_nvr_dlq</th>\n      <th>percent_bc_gt_75</th>\n      <th>pub_rec_bankruptcies</th>\n      <th>tax_liens</th>\n      <th>tot_hi_cred_lim</th>\n      <th>total_bal_ex_mort</th>\n      <th>total_bc_limit</th>\n      <th>total_il_high_credit_limit</th>\n      <th>hardship_flag</th>\n      <th>debt_settlement_flag</th>\n    </tr>\n  </thead>\n  <tbody>\n    <tr>\n      <th>count</th>\n      <td>68817.000000</td>\n      <td>68817.000000</td>\n      <td>68817.000000</td>\n      <td>68817.000000</td>\n      <td>6.881700e+04</td>\n      <td>68817.000000</td>\n      <td>68817.000000</td>\n      <td>68817.0</td>\n      <td>68817.000000</td>\n      <td>68817.000000</td>\n      <td>...</td>\n      <td>68817.000000</td>\n      <td>68817.000000</td>\n      <td>68817.000000</td>\n      <td>68817.0</td>\n      <td>6.881700e+04</td>\n      <td>6.881700e+04</td>\n      <td>68817.000000</td>\n      <td>6.881700e+04</td>\n      <td>68817.0</td>\n      <td>68817.0</td>\n    </tr>\n    <tr>\n      <th>mean</th>\n      <td>16677.594562</td>\n      <td>0.127718</td>\n      <td>480.652863</td>\n      <td>1.812779</td>\n      <td>8.821371e+04</td>\n      <td>0.669994</td>\n      <td>0.805542</td>\n      <td>0.0</td>\n      <td>21.778153</td>\n      <td>0.217766</td>\n      <td>...</td>\n      <td>95.057627</td>\n      <td>30.626217</td>\n      <td>0.125972</td>\n      <td>0.0</td>\n      <td>2.100332e+05</td>\n      <td>6.133843e+04</td>\n      <td>29734.128558</td>\n      <td>5.572240e+04</td>\n      <td>0.0</td>\n      <td>0.0</td>\n    </tr>\n    <tr>\n      <th>std</th>\n      <td>10277.348590</td>\n      <td>0.048130</td>\n      <td>288.062432</td>\n      <td>0.941313</td>\n      <td>1.155800e+05</td>\n      <td>0.719105</td>\n      <td>0.714932</td>\n      <td>0.0</td>\n      <td>20.199244</td>\n      <td>0.718367</td>\n      <td>...</td>\n      <td>8.326426</td>\n      <td>33.631463</td>\n      <td>0.336732</td>\n      <td>0.0</td>\n      <td>1.928088e+05</td>\n      <td>5.738798e+04</td>\n      <td>26795.394232</td>\n      <td>5.095845e+04</td>\n      <td>0.0</td>\n      <td>0.0</td>\n    </tr>\n    <tr>\n      <th>min</th>\n      <td>1000.000000</td>\n      <td>0.060000</td>\n      <td>30.890000</td>\n      <td>0.000000</td>\n      <td>4.000000e+01</td>\n      <td>0.000000</td>\n      <td>0.000000</td>\n      <td>0.0</td>\n      <td>0.000000</td>\n      <td>0.000000</td>\n      <td>...</td>\n      <td>20.000000</td>\n      <td>0.000000</td>\n      <td>0.000000</td>\n      <td>0.0</td>\n      <td>3.600000e+03</td>\n      <td>2.350000e+02</td>\n      <td>100.000000</td>\n      <td>1.270000e+02</td>\n      <td>0.0</td>\n      <td>0.0</td>\n    </tr>\n    <tr>\n      <th>25%</th>\n      <td>9000.000000</td>\n      <td>0.088100</td>\n      <td>265.730000</td>\n      <td>1.000000</td>\n      <td>5.000000e+04</td>\n      <td>0.000000</td>\n      <td>0.000000</td>\n      <td>0.0</td>\n      <td>13.890000</td>\n      <td>0.000000</td>\n      <td>...</td>\n      <td>93.000000</td>\n      <td>0.000000</td>\n      <td>0.000000</td>\n      <td>0.0</td>\n      <td>6.697700e+04</td>\n      <td>2.650300e+04</td>\n      <td>11600.000000</td>\n      <td>2.288000e+04</td>\n      <td>0.0</td>\n      <td>0.0</td>\n    </tr>\n    <tr>\n      <th>50%</th>\n      <td>15000.000000</td>\n      <td>0.118000</td>\n      <td>404.560000</td>\n      <td>1.000000</td>\n      <td>7.300000e+04</td>\n      <td>1.000000</td>\n      <td>1.000000</td>\n      <td>0.0</td>\n      <td>19.760000</td>\n      <td>0.000000</td>\n      <td>...</td>\n      <td>100.000000</td>\n      <td>20.000000</td>\n      <td>0.000000</td>\n      <td>0.0</td>\n      <td>1.467100e+05</td>\n      <td>4.535700e+04</td>\n      <td>22100.000000</td>\n      <td>4.200000e+04</td>\n      <td>0.0</td>\n      <td>0.0</td>\n    </tr>\n    <tr>\n      <th>75%</th>\n      <td>24000.000000</td>\n      <td>0.155700</td>\n      <td>648.100000</td>\n      <td>3.000000</td>\n      <td>1.040000e+05</td>\n      <td>1.000000</td>\n      <td>1.000000</td>\n      <td>0.0</td>\n      <td>26.660000</td>\n      <td>0.000000</td>\n      <td>...</td>\n      <td>100.000000</td>\n      <td>50.000000</td>\n      <td>0.000000</td>\n      <td>0.0</td>\n      <td>3.036400e+05</td>\n      <td>7.657000e+04</td>\n      <td>39300.000000</td>\n      <td>7.249900e+04</td>\n      <td>0.0</td>\n      <td>0.0</td>\n    </tr>\n    <tr>\n      <th>max</th>\n      <td>40000.000000</td>\n      <td>0.308400</td>\n      <td>1676.230000</td>\n      <td>3.000000</td>\n      <td>8.797500e+06</td>\n      <td>2.000000</td>\n      <td>2.000000</td>\n      <td>0.0</td>\n      <td>999.000000</td>\n      <td>18.000000</td>\n      <td>...</td>\n      <td>100.000000</td>\n      <td>100.000000</td>\n      <td>4.000000</td>\n      <td>0.0</td>\n      <td>3.292782e+06</td>\n      <td>1.295455e+06</td>\n      <td>509400.000000</td>\n      <td>1.426964e+06</td>\n      <td>0.0</td>\n      <td>0.0</td>\n    </tr>\n  </tbody>\n</table>\n<p>8 rows × 85 columns</p>\n</div>"
     },
     "execution_count": 12,
     "metadata": {},
     "output_type": "execute_result"
    }
   ],
   "source": [
    "# Creating variable data set\n",
    "X = df2.drop(columns='loan_status', axis=1)\n",
    "\n",
    "# Creating output data set (Target)\n",
    "y = df['loan_status']\n",
    "X.describe()"
   ],
   "metadata": {
    "collapsed": false,
    "pycharm": {
     "name": "#%%\n"
    }
   }
  },
  {
   "cell_type": "code",
   "execution_count": 13,
   "outputs": [
    {
     "data": {
      "text/plain": "low_risk     68470\nhigh_risk      347\nName: loan_status, dtype: int64"
     },
     "execution_count": 13,
     "metadata": {},
     "output_type": "execute_result"
    }
   ],
   "source": [
    "# Checking our target columns value distribution\n",
    "y.value_counts()"
   ],
   "metadata": {
    "collapsed": false,
    "pycharm": {
     "name": "#%%\n"
    }
   }
  },
  {
   "cell_type": "code",
   "execution_count": 14,
   "outputs": [
    {
     "data": {
      "text/plain": "       loan_amnt  int_rate  installment  home_ownership  annual_inc  \\\n39692    10000.0    0.1131       328.86               1     49000.0   \n37830    21000.0    0.1072       684.74               3     57400.0   \n64531    35000.0    0.0881      1109.90               2    180000.0   \n28730    20000.0    0.0819       628.49               2     80000.0   \n35102    12600.0    0.1356       427.96               1     71000.0   \n\n       verification_status  issue_d  pymnt_plan    dti  delinq_2yrs  ...  \\\n39692                    1        1           0  24.54          0.0  ...   \n37830                    0        1           0  34.52          0.0  ...   \n64531                    0        1           0   3.01          0.0  ...   \n28730                    1        0           0  26.51          0.0  ...   \n35102                    1        0           0  22.38          1.0  ...   \n\n       pct_tl_nvr_dlq  percent_bc_gt_75  pub_rec_bankruptcies  tax_liens  \\\n39692           100.0               0.0                   1.0        0.0   \n37830           100.0               0.0                   0.0        0.0   \n64531            94.7               0.0                   0.0        0.0   \n28730            90.0               0.0                   0.0        0.0   \n35102            88.9               0.0                   0.0        0.0   \n\n       tot_hi_cred_lim  total_bal_ex_mort  total_bc_limit  \\\n39692         309140.0            56262.0          9500.0   \n37830          98100.0            35707.0         64700.0   \n64531         327877.0             1222.0         41500.0   \n28730         143541.0            81162.0         14500.0   \n35102         316682.0            33433.0         26500.0   \n\n       total_il_high_credit_limit  hardship_flag  debt_settlement_flag  \n39692                     54197.0              0                     0  \n37830                     30000.0              0                     0  \n64531                     26177.0              0                     0  \n28730                    111641.0              0                     0  \n35102                     50182.0              0                     0  \n\n[5 rows x 85 columns]",
      "text/html": "<div>\n<style scoped>\n    .dataframe tbody tr th:only-of-type {\n        vertical-align: middle;\n    }\n\n    .dataframe tbody tr th {\n        vertical-align: top;\n    }\n\n    .dataframe thead th {\n        text-align: right;\n    }\n</style>\n<table border=\"1\" class=\"dataframe\">\n  <thead>\n    <tr style=\"text-align: right;\">\n      <th></th>\n      <th>loan_amnt</th>\n      <th>int_rate</th>\n      <th>installment</th>\n      <th>home_ownership</th>\n      <th>annual_inc</th>\n      <th>verification_status</th>\n      <th>issue_d</th>\n      <th>pymnt_plan</th>\n      <th>dti</th>\n      <th>delinq_2yrs</th>\n      <th>...</th>\n      <th>pct_tl_nvr_dlq</th>\n      <th>percent_bc_gt_75</th>\n      <th>pub_rec_bankruptcies</th>\n      <th>tax_liens</th>\n      <th>tot_hi_cred_lim</th>\n      <th>total_bal_ex_mort</th>\n      <th>total_bc_limit</th>\n      <th>total_il_high_credit_limit</th>\n      <th>hardship_flag</th>\n      <th>debt_settlement_flag</th>\n    </tr>\n  </thead>\n  <tbody>\n    <tr>\n      <th>39692</th>\n      <td>10000.0</td>\n      <td>0.1131</td>\n      <td>328.86</td>\n      <td>1</td>\n      <td>49000.0</td>\n      <td>1</td>\n      <td>1</td>\n      <td>0</td>\n      <td>24.54</td>\n      <td>0.0</td>\n      <td>...</td>\n      <td>100.0</td>\n      <td>0.0</td>\n      <td>1.0</td>\n      <td>0.0</td>\n      <td>309140.0</td>\n      <td>56262.0</td>\n      <td>9500.0</td>\n      <td>54197.0</td>\n      <td>0</td>\n      <td>0</td>\n    </tr>\n    <tr>\n      <th>37830</th>\n      <td>21000.0</td>\n      <td>0.1072</td>\n      <td>684.74</td>\n      <td>3</td>\n      <td>57400.0</td>\n      <td>0</td>\n      <td>1</td>\n      <td>0</td>\n      <td>34.52</td>\n      <td>0.0</td>\n      <td>...</td>\n      <td>100.0</td>\n      <td>0.0</td>\n      <td>0.0</td>\n      <td>0.0</td>\n      <td>98100.0</td>\n      <td>35707.0</td>\n      <td>64700.0</td>\n      <td>30000.0</td>\n      <td>0</td>\n      <td>0</td>\n    </tr>\n    <tr>\n      <th>64531</th>\n      <td>35000.0</td>\n      <td>0.0881</td>\n      <td>1109.90</td>\n      <td>2</td>\n      <td>180000.0</td>\n      <td>0</td>\n      <td>1</td>\n      <td>0</td>\n      <td>3.01</td>\n      <td>0.0</td>\n      <td>...</td>\n      <td>94.7</td>\n      <td>0.0</td>\n      <td>0.0</td>\n      <td>0.0</td>\n      <td>327877.0</td>\n      <td>1222.0</td>\n      <td>41500.0</td>\n      <td>26177.0</td>\n      <td>0</td>\n      <td>0</td>\n    </tr>\n    <tr>\n      <th>28730</th>\n      <td>20000.0</td>\n      <td>0.0819</td>\n      <td>628.49</td>\n      <td>2</td>\n      <td>80000.0</td>\n      <td>1</td>\n      <td>0</td>\n      <td>0</td>\n      <td>26.51</td>\n      <td>0.0</td>\n      <td>...</td>\n      <td>90.0</td>\n      <td>0.0</td>\n      <td>0.0</td>\n      <td>0.0</td>\n      <td>143541.0</td>\n      <td>81162.0</td>\n      <td>14500.0</td>\n      <td>111641.0</td>\n      <td>0</td>\n      <td>0</td>\n    </tr>\n    <tr>\n      <th>35102</th>\n      <td>12600.0</td>\n      <td>0.1356</td>\n      <td>427.96</td>\n      <td>1</td>\n      <td>71000.0</td>\n      <td>1</td>\n      <td>0</td>\n      <td>0</td>\n      <td>22.38</td>\n      <td>1.0</td>\n      <td>...</td>\n      <td>88.9</td>\n      <td>0.0</td>\n      <td>0.0</td>\n      <td>0.0</td>\n      <td>316682.0</td>\n      <td>33433.0</td>\n      <td>26500.0</td>\n      <td>50182.0</td>\n      <td>0</td>\n      <td>0</td>\n    </tr>\n  </tbody>\n</table>\n<p>5 rows × 85 columns</p>\n</div>"
     },
     "execution_count": 14,
     "metadata": {},
     "output_type": "execute_result"
    }
   ],
   "source": [
    "from sklearn.model_selection import train_test_split\n",
    "\n",
    "# Splitting data into training and testing sets\n",
    "XTrain, XTest, yTrain, yTest = train_test_split(X,\n",
    "                                                y,\n",
    "                                                random_state=1,\n",
    "                                                stratify=y\n",
    "                                                )\n",
    "XTrain.head()"
   ],
   "metadata": {
    "collapsed": false,
    "pycharm": {
     "name": "#%%\n"
    }
   }
  },
  {
   "cell_type": "markdown",
   "source": [
    "# Random Oversampling"
   ],
   "metadata": {
    "collapsed": false,
    "pycharm": {
     "name": "#%% md\n"
    }
   }
  },
  {
   "cell_type": "code",
   "execution_count": 15,
   "outputs": [
    {
     "data": {
      "text/plain": "Counter({'low_risk': 51352, 'high_risk': 51352})"
     },
     "execution_count": 15,
     "metadata": {},
     "output_type": "execute_result"
    }
   ],
   "source": [
    "from imblearn.over_sampling import RandomOverSampler\n",
    "# Instantiating RandomOverSampler\n",
    "ros = RandomOverSampler(random_state=1)\n",
    "\n",
    "# fitting and resampling\n",
    "XResampled, yResampled = ros.fit_resample(XTrain, yTrain)\n",
    "\n",
    "\n",
    "# Checking the outputs resampled value count\n",
    "Counter(yResampled)"
   ],
   "metadata": {
    "collapsed": false,
    "pycharm": {
     "name": "#%%\n"
    }
   }
  },
  {
   "cell_type": "code",
   "execution_count": 16,
   "outputs": [
    {
     "data": {
      "text/plain": "LogisticRegression(random_state=1)"
     },
     "execution_count": 16,
     "metadata": {},
     "output_type": "execute_result"
    }
   ],
   "source": [
    "# Logistic regression using random oversampled data\n",
    "from sklearn.linear_model import LogisticRegression\n",
    "model = LogisticRegression(solver='lbfgs', random_state=1)\n",
    "model.fit(XResampled, yResampled)"
   ],
   "metadata": {
    "collapsed": false,
    "pycharm": {
     "name": "#%%\n"
    }
   }
  },
  {
   "cell_type": "code",
   "execution_count": 17,
   "outputs": [
    {
     "data": {
      "text/plain": "0.6286647247704574"
     },
     "execution_count": 17,
     "metadata": {},
     "output_type": "execute_result"
    }
   ],
   "source": [
    "# Calculating the balanced accuracy score\n",
    "from sklearn.metrics import balanced_accuracy_score\n",
    "\n",
    "yPred = model.predict(XTest)\n",
    "balanced_accuracy_score(yTest,yPred)"
   ],
   "metadata": {
    "collapsed": false,
    "pycharm": {
     "name": "#%%\n"
    }
   }
  },
  {
   "cell_type": "code",
   "execution_count": 38,
   "outputs": [
    {
     "data": {
      "text/plain": "                Predicted True  Predicted False\nActually True               54               33\nActually False            6220            10898",
      "text/html": "<div>\n<style scoped>\n    .dataframe tbody tr th:only-of-type {\n        vertical-align: middle;\n    }\n\n    .dataframe tbody tr th {\n        vertical-align: top;\n    }\n\n    .dataframe thead th {\n        text-align: right;\n    }\n</style>\n<table border=\"1\" class=\"dataframe\">\n  <thead>\n    <tr style=\"text-align: right;\">\n      <th></th>\n      <th>Predicted True</th>\n      <th>Predicted False</th>\n    </tr>\n  </thead>\n  <tbody>\n    <tr>\n      <th>Actually True</th>\n      <td>54</td>\n      <td>33</td>\n    </tr>\n    <tr>\n      <th>Actually False</th>\n      <td>6220</td>\n      <td>10898</td>\n    </tr>\n  </tbody>\n</table>\n</div>"
     },
     "execution_count": 38,
     "metadata": {},
     "output_type": "execute_result"
    }
   ],
   "source": [
    "# Creating confusion matrix\n",
    "from sklearn.metrics import confusion_matrix\n",
    "pd.DataFrame(confusion_matrix(yTest,yPred),index=['Actually True', 'Actually False'], columns=['Predicted True', 'Predicted False'])"
   ],
   "metadata": {
    "collapsed": false,
    "pycharm": {
     "name": "#%%\n"
    }
   }
  },
  {
   "cell_type": "code",
   "execution_count": 19,
   "outputs": [
    {
     "name": "stdout",
     "output_type": "stream",
     "text": [
      "                   pre       rec       spe        f1       geo       iba       sup\n",
      "\n",
      "  high_risk       0.01      0.62      0.64      0.02      0.63      0.39        87\n",
      "   low_risk       1.00      0.64      0.62      0.78      0.63      0.40     17118\n",
      "\n",
      "avg / total       0.99      0.64      0.62      0.77      0.63      0.40     17205\n",
      "\n"
     ]
    }
   ],
   "source": [
    "# Printing the imbalanced classification report\n",
    "from imblearn.metrics import classification_report_imbalanced\n",
    "print(classification_report_imbalanced(yTest,yPred))"
   ],
   "metadata": {
    "collapsed": false,
    "pycharm": {
     "name": "#%%\n"
    }
   }
  },
  {
   "cell_type": "markdown",
   "source": [
    "# SMOTE\n",
    "### An oversampling technique that generates synthetic samples from the minority class"
   ],
   "metadata": {
    "collapsed": false,
    "pycharm": {
     "name": "#%% md\n"
    }
   }
  },
  {
   "cell_type": "code",
   "execution_count": 20,
   "outputs": [
    {
     "data": {
      "text/plain": "Counter({'low_risk': 51352, 'high_risk': 51352})"
     },
     "execution_count": 20,
     "metadata": {},
     "output_type": "execute_result"
    }
   ],
   "source": [
    "from imblearn.over_sampling import SMOTE\n",
    "\n",
    "# Using SMOTE to create our datasets (variables and target) of equal size\n",
    "XResampledSMOTE, yResampledSMOTE = SMOTE(random_state=1,\n",
    "                               sampling_strategy='auto').fit_resample(XTrain,yTrain)\n",
    "# Checking the\n",
    "Counter(yResampled)"
   ],
   "metadata": {
    "collapsed": false,
    "pycharm": {
     "name": "#%%\n"
    }
   }
  },
  {
   "cell_type": "code",
   "execution_count": 21,
   "outputs": [
    {
     "data": {
      "text/plain": "LogisticRegression(random_state=1)"
     },
     "execution_count": 21,
     "metadata": {},
     "output_type": "execute_result"
    }
   ],
   "source": [
    "# Using logistic Regression model to make predictions\n",
    "modelSMOTE = LogisticRegression(solver='lbfgs', random_state=1)\n",
    "modelSMOTE.fit(XResampledSMOTE,yResampledSMOTE)"
   ],
   "metadata": {
    "collapsed": false,
    "pycharm": {
     "name": "#%%\n"
    }
   }
  },
  {
   "cell_type": "code",
   "execution_count": 22,
   "outputs": [
    {
     "data": {
      "text/plain": "0.6382372255862956"
     },
     "execution_count": 22,
     "metadata": {},
     "output_type": "execute_result"
    }
   ],
   "source": [
    "# Viewing modelSMOTE balanced_accuracy_score\n",
    "yPredSMOTE = modelSMOTE.predict(XTest)\n",
    "balanced_accuracy_score(yTest,yPredSMOTE)"
   ],
   "metadata": {
    "collapsed": false,
    "pycharm": {
     "name": "#%%\n"
    }
   }
  },
  {
   "cell_type": "code",
   "execution_count": 37,
   "outputs": [
    {
     "data": {
      "text/plain": "                Predicted True  Predicted False\nActually True               51               36\nActually False            5302            11816",
      "text/html": "<div>\n<style scoped>\n    .dataframe tbody tr th:only-of-type {\n        vertical-align: middle;\n    }\n\n    .dataframe tbody tr th {\n        vertical-align: top;\n    }\n\n    .dataframe thead th {\n        text-align: right;\n    }\n</style>\n<table border=\"1\" class=\"dataframe\">\n  <thead>\n    <tr style=\"text-align: right;\">\n      <th></th>\n      <th>Predicted True</th>\n      <th>Predicted False</th>\n    </tr>\n  </thead>\n  <tbody>\n    <tr>\n      <th>Actually True</th>\n      <td>51</td>\n      <td>36</td>\n    </tr>\n    <tr>\n      <th>Actually False</th>\n      <td>5302</td>\n      <td>11816</td>\n    </tr>\n  </tbody>\n</table>\n</div>"
     },
     "execution_count": 37,
     "metadata": {},
     "output_type": "execute_result"
    }
   ],
   "source": [
    "# Displaying Confusion matrix\n",
    "pd.DataFrame(confusion_matrix(yTest,yPredSMOTE),index=['Actually True', 'Actually False'], columns=['Predicted True', 'Predicted False'])"
   ],
   "metadata": {
    "collapsed": false,
    "pycharm": {
     "name": "#%%\n"
    }
   }
  },
  {
   "cell_type": "code",
   "execution_count": 24,
   "outputs": [
    {
     "name": "stdout",
     "output_type": "stream",
     "text": [
      "                   pre       rec       spe        f1       geo       iba       sup\n",
      "\n",
      "  high_risk       0.01      0.59      0.69      0.02      0.64      0.40        87\n",
      "   low_risk       1.00      0.69      0.59      0.82      0.64      0.41     17118\n",
      "\n",
      "avg / total       0.99      0.69      0.59      0.81      0.64      0.41     17205\n",
      "\n"
     ]
    }
   ],
   "source": [
    "# Displaying the imbalanced classification report\n",
    "print(classification_report_imbalanced(yTest,yPredSMOTE))"
   ],
   "metadata": {
    "collapsed": false,
    "pycharm": {
     "name": "#%%\n"
    }
   }
  },
  {
   "cell_type": "markdown",
   "source": [
    "# ClusterCentroids Undersampling\n",
    "### Method that under samples the majority class by replacing a cluster of majority samples by the cluster centroid of a KMeans algorithm. This algorithm keeps N majority samples by fitting the KMeans algorithm with N cluster to the majority class and using the coordinates of the N cluster centroids as the new majority samples."
   ],
   "metadata": {
    "collapsed": false,
    "pycharm": {
     "name": "#%% md\n"
    }
   }
  },
  {
   "cell_type": "code",
   "execution_count": 25,
   "outputs": [
    {
     "data": {
      "text/plain": "Counter({'high_risk': 260, 'low_risk': 260})"
     },
     "execution_count": 25,
     "metadata": {},
     "output_type": "execute_result"
    }
   ],
   "source": [
    "# Resampling the data using \"ClusterCentroids\" undersampling technique\n",
    "from imblearn.under_sampling import ClusterCentroids\n",
    "\n",
    "cc = ClusterCentroids(random_state=1)\n",
    "\n",
    "XResampledCC, yResampledCC = cc.fit_resample(XTrain,yTrain)\n",
    "\n",
    "Counter(yResampledCC)"
   ],
   "metadata": {
    "collapsed": false,
    "pycharm": {
     "name": "#%%\n"
    }
   }
  },
  {
   "cell_type": "code",
   "execution_count": 26,
   "outputs": [
    {
     "data": {
      "text/plain": "LogisticRegression(random_state=1)"
     },
     "execution_count": 26,
     "metadata": {},
     "output_type": "execute_result"
    }
   ],
   "source": [
    "# # Using logistic Regression model to make predictions\n",
    "modelCC = LogisticRegression(solver='lbfgs', random_state=1)\n",
    "modelCC.fit(XResampledCC,yResampledCC)"
   ],
   "metadata": {
    "collapsed": false,
    "pycharm": {
     "name": "#%%\n"
    }
   }
  },
  {
   "cell_type": "code",
   "execution_count": 36,
   "outputs": [
    {
     "data": {
      "text/plain": "                Predicted True  Predicted False\nActually True               50               37\nActually False            9238             7880",
      "text/html": "<div>\n<style scoped>\n    .dataframe tbody tr th:only-of-type {\n        vertical-align: middle;\n    }\n\n    .dataframe tbody tr th {\n        vertical-align: top;\n    }\n\n    .dataframe thead th {\n        text-align: right;\n    }\n</style>\n<table border=\"1\" class=\"dataframe\">\n  <thead>\n    <tr style=\"text-align: right;\">\n      <th></th>\n      <th>Predicted True</th>\n      <th>Predicted False</th>\n    </tr>\n  </thead>\n  <tbody>\n    <tr>\n      <th>Actually True</th>\n      <td>50</td>\n      <td>37</td>\n    </tr>\n    <tr>\n      <th>Actually False</th>\n      <td>9238</td>\n      <td>7880</td>\n    </tr>\n  </tbody>\n</table>\n</div>"
     },
     "execution_count": 36,
     "metadata": {},
     "output_type": "execute_result"
    }
   ],
   "source": [
    "# Displaying the confusion matrix\n",
    "yPredCC = modelCC.predict(XTest)\n",
    "pd.DataFrame(confusion_matrix(yTest,yPredCC),index=['Actually True', 'Actually False'], columns=['Predicted True', 'Predicted False'])"
   ],
   "metadata": {
    "collapsed": false,
    "pycharm": {
     "name": "#%%\n"
    }
   }
  },
  {
   "cell_type": "code",
   "execution_count": 28,
   "outputs": [
    {
     "data": {
      "text/plain": "0.5175233974320236"
     },
     "execution_count": 28,
     "metadata": {},
     "output_type": "execute_result"
    }
   ],
   "source": [
    "# Viewing modelSMOTE balanced_accuracy_score\n",
    "\n",
    "balanced_accuracy_score(yTest,yPredCC)"
   ],
   "metadata": {
    "collapsed": false,
    "pycharm": {
     "name": "#%%\n"
    }
   }
  },
  {
   "cell_type": "code",
   "execution_count": 29,
   "outputs": [
    {
     "name": "stdout",
     "output_type": "stream",
     "text": [
      "                   pre       rec       spe        f1       geo       iba       sup\n",
      "\n",
      "  high_risk       0.01      0.57      0.46      0.01      0.51      0.27        87\n",
      "   low_risk       1.00      0.46      0.57      0.63      0.51      0.26     17118\n",
      "\n",
      "avg / total       0.99      0.46      0.57      0.63      0.51      0.26     17205\n",
      "\n"
     ]
    }
   ],
   "source": [
    "# displaying imbalanced classification report\n",
    "print(classification_report_imbalanced(yTest,yPredCC))"
   ],
   "metadata": {
    "collapsed": false,
    "pycharm": {
     "name": "#%%\n"
    }
   }
  },
  {
   "cell_type": "markdown",
   "source": [
    "# SMOTEENN\n",
    "### Over-sampling using SMOTE and cleaning using ENN. Combine over- and under-sampling using SMOTE and Edited Nearest Neighbours."
   ],
   "metadata": {
    "collapsed": false,
    "pycharm": {
     "name": "#%% md\n"
    }
   }
  },
  {
   "cell_type": "code",
   "execution_count": 30,
   "outputs": [
    {
     "data": {
      "text/plain": "Counter({'high_risk': 68460, 'low_risk': 62011})"
     },
     "execution_count": 30,
     "metadata": {},
     "output_type": "execute_result"
    }
   ],
   "source": [
    "# Using SMOTEENN to resample the data\n",
    "from imblearn.combine import SMOTEENN\n",
    "smote_enn = SMOTEENN(random_state=0)\n",
    "XResampledENN, yResampledENN = smote_enn.fit_resample(X,y)\n",
    "Counter(yResampledENN)"
   ],
   "metadata": {
    "collapsed": false,
    "pycharm": {
     "name": "#%%\n"
    }
   }
  },
  {
   "cell_type": "code",
   "execution_count": 31,
   "outputs": [
    {
     "data": {
      "text/plain": "LogisticRegression(random_state=1)"
     },
     "execution_count": 31,
     "metadata": {},
     "output_type": "execute_result"
    }
   ],
   "source": [
    "# Fit a Logistic regression model using SMOTEENN sampling data\n",
    "modelENN = LogisticRegression(solver='lbfgs', random_state=1)\n",
    "modelENN.fit(XResampledENN,yResampledENN)"
   ],
   "metadata": {
    "collapsed": false,
    "pycharm": {
     "name": "#%%\n"
    }
   }
  },
  {
   "cell_type": "code",
   "execution_count": 35,
   "outputs": [
    {
     "data": {
      "text/plain": "                Predicted True  Predicted False\nActually True               63               24\nActually False            6850            10268",
      "text/html": "<div>\n<style scoped>\n    .dataframe tbody tr th:only-of-type {\n        vertical-align: middle;\n    }\n\n    .dataframe tbody tr th {\n        vertical-align: top;\n    }\n\n    .dataframe thead th {\n        text-align: right;\n    }\n</style>\n<table border=\"1\" class=\"dataframe\">\n  <thead>\n    <tr style=\"text-align: right;\">\n      <th></th>\n      <th>Predicted True</th>\n      <th>Predicted False</th>\n    </tr>\n  </thead>\n  <tbody>\n    <tr>\n      <th>Actually True</th>\n      <td>63</td>\n      <td>24</td>\n    </tr>\n    <tr>\n      <th>Actually False</th>\n      <td>6850</td>\n      <td>10268</td>\n    </tr>\n  </tbody>\n</table>\n</div>"
     },
     "execution_count": 35,
     "metadata": {},
     "output_type": "execute_result"
    }
   ],
   "source": [
    "# Displaying confusion matrix\n",
    "yPredENN = modelENN.predict(XTest)\n",
    "pd.DataFrame(confusion_matrix(yTest, yPredENN),index=['Actually True', 'Actually False'], columns=['Predicted True', 'Predicted False'])"
   ],
   "metadata": {
    "collapsed": false,
    "pycharm": {
     "name": "#%%\n"
    }
   }
  },
  {
   "cell_type": "code",
   "execution_count": 33,
   "outputs": [
    {
     "data": {
      "text/plain": "0.6619871802619546"
     },
     "execution_count": 33,
     "metadata": {},
     "output_type": "execute_result"
    }
   ],
   "source": [
    "# Displaying Balanced Accuracy score\n",
    "balanced_accuracy_score(yTest,yPredENN)"
   ],
   "metadata": {
    "collapsed": false,
    "pycharm": {
     "name": "#%%\n"
    }
   }
  },
  {
   "cell_type": "code",
   "execution_count": 34,
   "outputs": [
    {
     "name": "stdout",
     "output_type": "stream",
     "text": [
      "                   pre       rec       spe        f1       geo       iba       sup\n",
      "\n",
      "  high_risk       0.01      0.72      0.60      0.02      0.66      0.44        87\n",
      "   low_risk       1.00      0.60      0.72      0.75      0.66      0.43     17118\n",
      "\n",
      "avg / total       0.99      0.60      0.72      0.75      0.66      0.43     17205\n",
      "\n"
     ]
    }
   ],
   "source": [
    "# Displaying the imbalanced classification report\n",
    "print(classification_report_imbalanced(yTest,yPredENN))"
   ],
   "metadata": {
    "collapsed": false,
    "pycharm": {
     "name": "#%%\n"
    }
   }
  }
 ],
 "metadata": {
  "kernelspec": {
   "name": "mlenve",
   "language": "python",
   "display_name": "mlenve"
  },
  "language_info": {
   "codemirror_mode": {
    "name": "ipython",
    "version": 2
   },
   "file_extension": ".py",
   "mimetype": "text/x-python",
   "name": "python",
   "nbconvert_exporter": "python",
   "pygments_lexer": "ipython2",
   "version": "2.7.6"
  }
 },
 "nbformat": 4,
 "nbformat_minor": 0
}